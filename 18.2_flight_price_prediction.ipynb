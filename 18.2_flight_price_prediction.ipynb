{
 "cells": [
  {
   "cell_type": "markdown",
   "id": "f61936be",
   "metadata": {},
   "source": [
    "## EDA And Feature Engineering Flight Price Prediction\n",
    "check the dataset info below\n",
    "https://www.kaggle.com/datasets/shubhambathwal/flight-price-prediction\n"
   ]
  },
  {
   "cell_type": "markdown",
   "id": "1a681961",
   "metadata": {},
   "source": [
    "### FEATURES\n",
    "The various features of the cleaned dataset are explained below:\n",
    "1) Airline: The name of the airline company is stored in the airline column. It is a categorical feature having 6 different airlines.\n",
    "2) Flight: Flight stores information regarding the plane's flight code. It is a categorical feature.\n",
    "3) Source City: City from which the flight takes off. It is a categorical feature having 6 unique cities.\n",
    "4) Departure Time: This is a derived categorical feature obtained created by grouping time periods into bins. It stores information about the departure time and have 6 unique time labels.\n",
    "5) Stops: A categorical feature with 3 distinct values that stores the number of stops between the source and destination cities.\n",
    "6) Arrival Time: This is a derived categorical feature created by grouping time intervals into bins. It has six distinct time labels and keeps information about the arrival time.\n",
    "7) Destination City: City where the flight will land. It is a categorical feature having 6 unique cities.\n",
    "8) Class: A categorical feature that contains information on seat class; it has two distinct values: Business and Economy.\n",
    "9) Duration: A continuous feature that displays the overall amount of time it takes to travel between cities in hours.\n",
    "10)Days Left: This is a derived characteristic that is calculated by subtracting the trip date by the booking date.\n",
    "11) Price: Target variable stores information of the ticket price."
   ]
  },
  {
   "cell_type": "code",
   "execution_count": null,
   "id": "35fb2e86",
   "metadata": {},
   "outputs": [],
   "source": [
    "## Core\n",
    "import pandas as pd\n",
    "import numpy as np\n",
    "## Data Visualization\n",
    "import matplotlib.pyplot as plt\n",
    "import seaborn as sns\n",
    "%matplotlib inline\n",
    "## Modeling\n",
    "from sklearn.model_selection import train_test_split,cross_val_score\n",
    "from sklearn.preprocessing import StandardScaler,OneHotEncoder\n",
    "from sklearn.linear_model import LinearRegression\n",
    "from sklearn.ensemble import RandomForestRegressor\n",
    "from sklearn.metrics import mean_absolute_error,mean_squared_error,r2_score\n",
    "from sklearn.pipeline import Pipeline\n",
    "from sklearn.compose import ColumnTransformer\n",
    "\n",
    "import warnings\n",
    "warnings.filterwarnings('ignore')"
   ]
  },
  {
   "cell_type": "markdown",
   "id": "a33c1861",
   "metadata": {},
   "source": [
    "## 1) Load DATA"
   ]
  },
  {
   "cell_type": "code",
   "execution_count": null,
   "id": "9319bed1",
   "metadata": {},
   "outputs": [],
   "source": [
    "## reading data from Excel File\n",
    "df= pd.read_excel('flight_price.xlsx')\n",
    "df.head()"
   ]
  },
  {
   "cell_type": "markdown",
   "id": "afc5f9cf",
   "metadata": {},
   "source": [
    "## Data Overview & Quality Check"
   ]
  },
  {
   "cell_type": "code",
   "execution_count": null,
   "id": "580c9dc9",
   "metadata": {},
   "outputs": [],
   "source": [
    "# get basic info about data\n",
    "df.info()"
   ]
  },
  {
   "cell_type": "code",
   "execution_count": null,
   "id": "202d7762",
   "metadata": {},
   "outputs": [],
   "source": [
    "df.describe()"
   ]
  },
  {
   "cell_type": "code",
   "execution_count": null,
   "id": "c478b3d3",
   "metadata": {},
   "outputs": [],
   "source": [
    "# Missing values\n",
    "df.isnull().sum().sort_values(ascending=False)"
   ]
  },
  {
   "cell_type": "markdown",
   "id": "9e9718cc",
   "metadata": {},
   "source": [
    "## Basic Cleaning & consistent Casing"
   ]
  },
  {
   "cell_type": "code",
   "execution_count": null,
   "id": "5267dd9f",
   "metadata": {},
   "outputs": [],
   "source": [
    "## striping Spaces in String columns,unify case\n",
    "for col in df.select_dtypes(include='object').columns:\n",
    "     df[col]=df[col].astype(str).str.strip()"
   ]
  },
  {
   "cell_type": "code",
   "execution_count": null,
   "id": "f6d2b267",
   "metadata": {},
   "outputs": [],
   "source": [
    "# Feature Engineering\n",
    "# If Date_of_Journey is like '24/03/2019', split into day, month, year\n",
    "if 'Date_of_Journey' in df.columns:\n",
    "     parts=df['Date_of_Journey'].str.split('/',expand=True)\n",
    "     if parts.shape[1]==3:\n",
    "          df['Journey_day']=parts[0].astype(int)\n",
    "          df['Journey_month']=parts[1].astype(int)\n",
    "          df['Journey_year']=parts[2].astype(int)\n",
    "          df.drop('Date_of_Journey',axis=1,inplace=True)\n",
    "\n",
    "# Extract hour/minute from Dep_Time and Arrival_Time if they exist\n",
    "def split_time_col(col):\n",
    "     if col in df.columns:\n",
    "          # keep only the time portion before any space\n",
    "          df[col]=df[col].apply(lambda x:str(x).split(' ')[0])\n",
    "          hh_mm=df[col].str.split(':',expand=True)\n",
    "          if hh_mm.shape[1]==2:\n",
    "               df[f'{col}_hour']=pd.to_numeric(hh_mm[0],errors='coerce')\n",
    "               df[f'{col}_min']=pd.to_numeric(hh_mm[1],errors='coerce')\n",
    "          df.drop(col,axis=1,inplace=True) \n",
    "\n",
    "for c in ['Dep_Time', 'Arrival_Time']:\n",
    "    split_time_col(c)\n",
    "\n",
    "# Convert Duration to total minutes if available, handling formats like '2h 50m', '5h', '45m'\n",
    "\n",
    "def duration_to_minutes(s):\n",
    "     s=str(s).lower().strip()\n",
    "     h=0\n",
    "     m=0\n",
    "     if 'h' in s:\n",
    "        try:\n",
    "            h = int(s.split('h')[0].strip())\n",
    "        except:\n",
    "            h = 0\n",
    "        rest = s.split('h')[1]\n",
    "        if 'm' in rest:\n",
    "            try:\n",
    "                m = int(rest.split('m')[0].strip())\n",
    "            except:\n",
    "                m = 0\n",
    "     elif 'm' in s:\n",
    "        try:\n",
    "            m = int(s.split('m')[0].strip())\n",
    "        except:\n",
    "            m = 0\n",
    "     return h*60 + m\n",
    "\n",
    "if 'Duration' in df.columns:\n",
    "    df['Duration_min'] = df['Duration'].apply(duration_to_minutes)\n",
    "    df.drop('Duration', axis=1, inplace=True)\n",
    "     \n",
    "df.head()\n",
    "\n"
   ]
  },
  {
   "cell_type": "markdown",
   "id": "70c66b59",
   "metadata": {},
   "source": [
    "## Exploratory Data Analysis(EDA)"
   ]
  },
  {
   "cell_type": "code",
   "execution_count": null,
   "id": "15f5a9b7",
   "metadata": {},
   "outputs": [],
   "source": [
    "# Target distribution (Price) if present\n",
    "if 'Price' in df.columns:\n",
    "     plt.figure()\n",
    "     df['Price'].plot(kind='hist',bins=50,edgecolor='black')\n",
    "     plt.title('Distribution of Ticket Price')\n",
    "     plt.xlabel(\"Price\")\n",
    "     plt.ylabel(\"Frequency\")\n",
    "     plt.show()\n"
   ]
  },
  {
   "cell_type": "code",
   "execution_count": null,
   "id": "e37b8e49",
   "metadata": {},
   "outputs": [],
   "source": [
    "# Numeric correlations heatmap (simple)\n",
    "num_cols=df.select_dtypes(include=[np.number]).columns.tolist()\n",
    "if len(num_cols)>=1:\n",
    "     corr=df[num_cols].corr()\n",
    "     plt.figure(figsize=(15,20))\n",
    "     sns.heatmap(corr,annot=True)\n",
    "     sns.set_theme(style='darkgrid')\n",
    "     plt.title('Correlation Heatmap (Numeric Features)')\n",
    "     \n",
    "     plt.tight_layout()\n",
    "     plt.show()"
   ]
  },
  {
   "cell_type": "code",
   "execution_count": null,
   "id": "1f28f3e6",
   "metadata": {},
   "outputs": [],
   "source": [
    "# Average price by key categorical features (if exist)\n",
    "for cat in ['Airline', 'Source', 'Destination', 'Total_Stops', 'Route', 'Class']:\n",
    "    if cat in df.columns and 'Price' in df.columns:\n",
    "        plt.figure()\n",
    "        df.groupby(cat)['Price'].mean().sort_values().plot(kind='bar')\n",
    "        plt.title(f'Average Price by {cat}')\n",
    "        plt.ylabel('Average Price')\n",
    "        plt.xlabel(cat)\n",
    "        plt.tight_layout()\n",
    "        plt.show()"
   ]
  },
  {
   "cell_type": "markdown",
   "id": "93cf6c3c",
   "metadata": {},
   "source": [
    "## Train Test Split and PreProcessing"
   ]
  },
  {
   "cell_type": "code",
   "execution_count": null,
   "id": "df4faa55",
   "metadata": {},
   "outputs": [],
   "source": [
    "df.head()"
   ]
  },
  {
   "cell_type": "code",
   "execution_count": null,
   "id": "61a97ee4",
   "metadata": {},
   "outputs": [],
   "source": [
    "X=df.drop(columns=['Price'])\n",
    "y=df['Price']\n",
    "\n",
    "\n",
    "num_cols=df.select_dtypes(include=[np.number]).columns.tolist()\n",
    "cat_cols=df.select_dtypes(exclude=[np.number]).columns.tolist()\n",
    "num_cols.remove('Price') \n",
    "num_cols,cat_cols"
   ]
  },
  {
   "cell_type": "code",
   "execution_count": null,
   "id": "65fb40ab",
   "metadata": {},
   "outputs": [],
   "source": [
    "# Preprocess: scale numeric, one-hot encode categorical\n",
    "\n",
    "preprocessor = ColumnTransformer(\n",
    "    transformers=[\n",
    "        ('num', StandardScaler(), num_cols),\n",
    "        ('cat', OneHotEncoder(handle_unknown='ignore'), cat_cols)\n",
    "    ]\n",
    ")\n",
    "\n",
    "\n"
   ]
  },
  {
   "cell_type": "code",
   "execution_count": null,
   "id": "7a848cbc",
   "metadata": {},
   "outputs": [],
   "source": [
    "X_train,X_test,y_train,y_test=train_test_split(X,y,test_size=0.2,random_state=42)\n",
    "X_train.shape, X_test.shape\n"
   ]
  },
  {
   "cell_type": "markdown",
   "id": "2c36a065",
   "metadata": {},
   "source": [
    "## Baseline Model - Linear Regression"
   ]
  },
  {
   "cell_type": "code",
   "execution_count": null,
   "id": "cea90afd",
   "metadata": {},
   "outputs": [],
   "source": [
    "linear_reg=Pipeline(steps=[('preprocess',preprocessor),\n",
    "                    ('Model',LinearRegression())])\n",
    "\n",
    "linear_reg.fit(X_train,y_train)\n",
    "\n",
    "y_pred=linear_reg.predict(X_test)\n",
    "\n",
    "linear_reg_mae=mean_absolute_error(y_test,y_pred)\n",
    "linear_reg_mse=mean_squared_error(y_test,y_pred)\n",
    "linear_reg_rmse=np.sqrt(linear_reg_mse)\n",
    "linear_reg_r2_score=r2_score(y_test,y_pred)\n",
    "\n",
    "print(f\"For Linear Regression Model -> MAE:{linear_reg_mae} | RMSE:{linear_reg_rmse} | R2_SCORE:{linear_reg_r2_score}\")\n"
   ]
  },
  {
   "cell_type": "code",
   "execution_count": null,
   "id": "823a9618",
   "metadata": {},
   "outputs": [],
   "source": [
    "\n",
    "rf = Pipeline(steps=[('preprocess', preprocessor),\n",
    "                    ('model', RandomForestRegressor(\n",
    "                        n_estimators=300,\n",
    "                        max_depth=None,\n",
    "                        random_state=42,\n",
    "                        n_jobs=-1\n",
    "                    ))])\n",
    "\n",
    "rf.fit(X_train, y_train)\n",
    "pred_rf = rf.predict(X_test)\n",
    "\n",
    "mae_rf = mean_absolute_error(y_test, pred_rf)\n",
    "rmse_rf = mean_squared_error(y_test, pred_rf, squared=False)\n",
    "r2_rf = r2_score(y_test, pred_rf)\n",
    "\n",
    "print(f\"Random Forest -> MAE: {mae_rf:.2f} | RMSE: {rmse_rf:.2f} | R^2: {r2_rf:.3f}\")\n"
   ]
  },
  {
   "cell_type": "markdown",
   "id": "9b21655e",
   "metadata": {},
   "source": []
  },
  {
   "cell_type": "code",
   "execution_count": null,
   "id": "03f3c412",
   "metadata": {},
   "outputs": [],
   "source": [
    "\n",
    "# Extract feature names after preprocessing\n",
    "ohe = rf.named_steps['preprocess'].named_transformers_['cat']\n",
    "cat_feature_names = ohe.get_feature_names_out(cat_cols) if len(cat_cols) else np.array([])\n",
    "feature_names = np.r_[num_cols, cat_feature_names]\n",
    "\n",
    "importances = rf.named_steps['model'].feature_importances_\n",
    "\n",
    "# Top 20 most important\n",
    "idx = np.argsort(importances)[::-1][:20]\n",
    "plt.figure()\n",
    "plt.bar(range(len(idx)), importances[idx])\n",
    "plt.xticks(range(len(idx)), feature_names[idx], rotation=90)\n",
    "plt.title('Top 20 Feature Importances (Random Forest)')\n",
    "plt.tight_layout()\n",
    "plt.show()\n"
   ]
  },
  {
   "cell_type": "markdown",
   "id": "caa29492",
   "metadata": {},
   "source": [
    "## Conclusions\n",
    "\n",
    "**Key Findings (examples to update based on your results):**\n",
    "- Prices vary strongly by **Duration_min** and **Total_Stops**.\n",
    "- **Duration_min** and **departure/arrival hour** show notable correlation with price.\n",
    "- **Random Forest** outperformed Linear Regression on RMSE/R², indicating non-linear relationships and interaction effects in the data.\n",
    "\n",
    "**Limitations:**\n",
    "- Some features are derived from string parsing; data quality can affect signal.\n",
    "- No hyperparameter tuning yet (Grid/Randomized Search can improve RF).\n",
    "\n",
    "**Next Steps:**\n",
    "1. Add **hyperparameter tuning** for Random Forest / try **XGBoost/LightGBM**.\n",
    "2. Engineer **Days Left** (if `Date_of_Journey` and booking dates available).\n",
    "3. Try **target encoding** for high-cardinality categoricals.\n",
    "4. Log-transform skewed targets if necessary and repeat training.\n",
    "\n"
   ]
  },
  {
   "cell_type": "markdown",
   "id": "89fd0802",
   "metadata": {},
   "source": [
    "## Hyperparameter Tuning - Random Forest(RandomizedSearchCV)"
   ]
  },
  {
   "cell_type": "code",
   "execution_count": null,
   "id": "f8f2723e",
   "metadata": {},
   "outputs": [],
   "source": [
    "from sklearn.model_selection import RandomizedSearchCV\n",
    "\n",
    "rf_pipeline=rf\n",
    "\n",
    "params={\n",
    "     'model__n_estimators': [200, 300, 400, 500, 700],\n",
    "    'model__max_depth': [None, 10, 15, 20, 30],\n",
    "    'model__min_samples_split': [2, 5, 10],\n",
    "    'model__min_samples_leaf': [1, 2, 4],\n",
    "    'model__max_features': ['auto', 'sqrt', 0.8, 0.6]\n",
    "}\n",
    "\n",
    "randomsearch=RandomizedSearchCV(estimator=rf_pipeline,\n",
    "                                param_distributions=params,\n",
    "                                n_iter=20,\n",
    "                                scoring='neg_mean_squared_error',\n",
    "                                cv=5,\n",
    "                                verbose=1,\n",
    "                                random_state=42,\n",
    "                                 n_jobs=-1)\n",
    "randomsearch.fit(X_train,y_train)\n",
    "\n",
    "best_rf=randomsearch.best_estimator_\n",
    "best_params=randomsearch.best_params_\n",
    "pred_best=randomsearch.predict(X_test)\n",
    "\n",
    "\n",
    "mae_best = mean_absolute_error(y_test, pred_best)\n",
    "rmse_best = mean_squared_error(y_test, pred_best, squared=False)\n",
    "r2_best = r2_score(y_test, pred_best)\n",
    "\n",
    "print(\"Best RF params:\", best_params)\n",
    "print(f\"Tuned Random Forest -> MAE: {mae_best:.2f} | RMSE: {rmse_best:.2f} | R^2: {r2_best:.3f}\")\n",
    "\n",
    "\n",
    "\n"
   ]
  },
  {
   "cell_type": "markdown",
   "id": "601c2b4e",
   "metadata": {},
   "source": [
    "##  Gradient Boosting Regressor (as another tree-based baseline)"
   ]
  },
  {
   "cell_type": "code",
   "execution_count": null,
   "id": "2fd725a2",
   "metadata": {},
   "outputs": [],
   "source": [
    "\n",
    "from sklearn.ensemble import GradientBoostingRegressor\n",
    "\n",
    "gbr = Pipeline(steps=[('preprocess', preprocessor),\n",
    "                     ('model', GradientBoostingRegressor(random_state=42))])\n",
    "\n",
    "gbr.fit(X_train, y_train)\n",
    "pred_gbr = gbr.predict(X_test)\n",
    "\n",
    "mae_gbr = mean_absolute_error(y_test, pred_gbr)\n",
    "rmse_gbr = mean_squared_error(y_test, pred_gbr, squared=False)\n",
    "r2_gbr = r2_score(y_test, pred_gbr)\n",
    "\n",
    "print(f\"Gradient Boosting -> MAE: {mae_gbr:.2f} | RMSE: {rmse_gbr:.2f} | R^2: {r2_gbr:.3f}\")\n"
   ]
  },
  {
   "cell_type": "code",
   "execution_count": null,
   "id": "38e17ec1",
   "metadata": {},
   "outputs": [],
   "source": [
    "\n",
    "import pandas as pd\n",
    "\n",
    "results = pd.DataFrame({\n",
    "    'Model': ['Linear Regression', 'Random Forest', 'Tuned Random Forest', 'Gradient Boosting'],\n",
    "    'MAE':   [linear_reg_mae, mae_rf, mae_best, mae_gbr],\n",
    "    'RMSE':  [linear_reg_rmse, rmse_rf, rmse_best, rmse_gbr],\n",
    "    'R2':    [linear_reg_r2_score, r2_rf, r2_best, r2_gbr]\n",
    "}).sort_values(by='RMSE')\n",
    "\n",
    "results\n"
   ]
  },
  {
   "cell_type": "markdown",
   "id": "7320f3c8",
   "metadata": {},
   "source": [
    "## "
   ]
  },
  {
   "cell_type": "code",
   "execution_count": null,
   "id": "dedfbffb",
   "metadata": {},
   "outputs": [],
   "source": [
    "print(\" \")"
   ]
  },
  {
   "cell_type": "markdown",
   "id": "5360d7bd",
   "metadata": {},
   "source": [
    "## Save Best Model For Deployment"
   ]
  },
  {
   "cell_type": "code",
   "execution_count": null,
   "id": "554d64b2",
   "metadata": {},
   "outputs": [],
   "source": [
    "\n",
    "import joblib\n",
    "\n",
    "# Choose the best model based on RMSE\n",
    "best_row = results.iloc[0]\n",
    "best_name = best_row['Model']\n",
    "\n",
    "if best_name == 'Tuned Random Forest':\n",
    "    final_model = randomsearch\n",
    "elif best_name == 'Random Forest':\n",
    "    final_model = rf\n",
    "elif best_name == 'Gradient Boosting':\n",
    "    final_model = gbr\n",
    "else:\n",
    "    final_model = linear_reg\n",
    "\n",
    "joblib.dump(final_model, 'flight_price_best_model.joblib')\n",
    "print(\"Saved best model as 'flight_price_best_model.joblib'\")\n",
    "\n"
   ]
  },
  {
   "cell_type": "code",
   "execution_count": null,
   "id": "dc2570cc",
   "metadata": {},
   "outputs": [],
   "source": [
    "# Example: load the model and predict on X_test head (shape matches after preprocessing in the pipeline)\n",
    "loaded = joblib.load('flight_price_best_model.joblib')\n",
    "print(loaded.predict(X_test.head(3)))\n"
   ]
  },
  {
   "cell_type": "markdown",
   "id": "000b00aa",
   "metadata": {},
   "source": [
    "\n",
    "- Compared multiple models; **Tuned Random Forest** and **Gradient Boosting** typically outperform linear baseline.  \n",
    "- Used **RandomizedSearchCV (5-fold)** to optimize RF hyperparameters.  \n",
    "- Saved the **best model** with `joblib`, making it easy to deploy later (e.g., Streamlit).  \n",
    "- Next upgrade: **XGBoost/LightGBM**, target transformation for skewed price, and time-aware validation if booking date is available.\n"
   ]
  }
 ],
 "metadata": {
  "kernelspec": {
   "display_name": "myenv",
   "language": "python",
   "name": "python3"
  },
  "language_info": {
   "codemirror_mode": {
    "name": "ipython",
    "version": 3
   },
   "file_extension": ".py",
   "mimetype": "text/x-python",
   "name": "python",
   "nbconvert_exporter": "python",
   "pygments_lexer": "ipython3",
   "version": "3.10.16"
  }
 },
 "nbformat": 4,
 "nbformat_minor": 5
}
